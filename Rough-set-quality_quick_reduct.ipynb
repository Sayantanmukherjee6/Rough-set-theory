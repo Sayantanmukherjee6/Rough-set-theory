{
 "cells": [
  {
   "cell_type": "markdown",
   "metadata": {},
   "source": [
    "##Rough set quick reduct algorithm implementation in python "
   ]
  },
  {
   "cell_type": "code",
   "execution_count": 1,
   "metadata": {
    "collapsed": true
   },
   "outputs": [],
   "source": [
    "import numpy as np\n",
    "import itertools"
   ]
  },
  {
   "cell_type": "code",
   "execution_count": 2,
   "metadata": {
    "collapsed": true
   },
   "outputs": [],
   "source": [
    "#function used to flatten list within a list\n",
    "def flatten(l):\n",
    "    return eval('[' + repr(l).replace('[', '').replace(']', '') + ']')"
   ]
  },
  {
   "cell_type": "code",
   "execution_count": 3,
   "metadata": {
    "collapsed": true
   },
   "outputs": [],
   "source": [
    "#m= np.array([[2,1,3,1],[3,2,1,2],[2,1,3,1],[2,2,3,2],[1,1,4,3],[1,1,2,3],[3,2,1,2],[1,1,4,3],[2,1,3,1],[3,2,1,2]])\n",
    "m=np.array([[1,1,1,1],[2,3,2,0],[2,2,3,0],[2,3,4,0],[3,1,1,1],[3,3,5,1],[3,2,3,0],[3,1,5,0]])\n",
    "ca=m[:,[0,1,2]] #condition attributes\n",
    "d=m[:,3] #decision attribute"
   ]
  },
  {
   "cell_type": "code",
   "execution_count": 4,
   "metadata": {
    "collapsed": false
   },
   "outputs": [
    {
     "data": {
      "text/plain": [
       "[array([1, 2, 3, 6, 7], dtype=int64), array([0, 4, 5], dtype=int64)]"
      ]
     },
     "execution_count": 4,
     "metadata": {},
     "output_type": "execute_result"
    }
   ],
   "source": [
    "#grouping same element in decision attributes\n",
    "unique = np.unique(d)\n",
    "de=[np.where(d == unique_num) for unique_num in unique]\n",
    "da=[de[item][0] for item in range(len(de))]\n",
    "da"
   ]
  },
  {
   "cell_type": "code",
   "execution_count": 5,
   "metadata": {
    "collapsed": false
   },
   "outputs": [],
   "source": [
    "#primary stage \n",
    "quality=[]\n",
    "for eachxx in range(len(ca[0])): #count for each columns in ca\n",
    "    lowerap=[]\n",
    "    for eachrows in range(len(da)): #count for each rows in da(decision attributes)\n",
    "            xx=ca[:,eachxx]\n",
    "            xrows=da[eachrows]\n",
    "            xnew= [xx[o] for o in xrows]\n",
    "            xd = np.delete(xx, xrows)\n",
    "            lowerapp=[result for result in xnew if result not in xd]\n",
    "            lowerap.append(lowerapp)\n",
    "            \n",
    "    lowera=[x for x in lowerap if x != []] #used for removing null element in lower approximation\n",
    "    lower=flatten(lowera)\n",
    "    quality.append(len(lower)/(len(m)*1.0)) \n",
    "colpos=[i for i, j in enumerate(quality) if j == max(quality, key = float)]\n",
    "kl = np.delete(ca, np.s_[colpos],1)                       \n",
    "ad= [ (np.column_stack((ca[:,colpos[i]],kl[:,j]))) for i in range(len(colpos)) for j in range(len(kl[0]))]"
   ]
  },
  {
   "cell_type": "code",
   "execution_count": 6,
   "metadata": {
    "collapsed": false
   },
   "outputs": [
    {
     "data": {
      "text/plain": [
       "(8L, 2L)"
      ]
     },
     "execution_count": 6,
     "metadata": {},
     "output_type": "execute_result"
    }
   ],
   "source": [
    "#final step\n",
    "length=[]\n",
    "for eachad in range(len(ad)):\n",
    "    #lowerap=[]\n",
    "    nt=0\n",
    "    for each in range(len(da)):\n",
    "        xx=ad[eachad]\n",
    "        xrows=da[each]\n",
    "        xnew= np.array(list(itertools.compress(xx, [i in xrows for i in range(len(xx))])))\n",
    "        xd = np.array(list(itertools.compress(xx, [i not in xrows for i in range(len(xx))])))\n",
    "        alist = list(map(tuple, xnew))\n",
    "        bset = set(map(tuple, xd))\n",
    "        mn=np.array([x for x in alist if x not in bset])\n",
    "        nt=nt+len(mn)\n",
    "    length.append(nt)\n",
    "        \n",
    "#final quality check\n",
    "quality2=[(length[each]*1.0/len(m)) for each in range(len(length))]\n",
    "colpos=[i for i, j in enumerate(quality2) if j == max(quality2, key = float)]\n",
    "\n",
    "#getting the reduced matrix\n",
    "reduct_matrix= [ad[p] for p in colpos][0]\n",
    "reduct_shape=[np.shape(ad[q]) for q in colpos]\n",
    "reduct_shape[0]"
   ]
  },
  {
   "cell_type": "code",
   "execution_count": null,
   "metadata": {
    "collapsed": true
   },
   "outputs": [],
   "source": []
  }
 ],
 "metadata": {
  "kernelspec": {
   "display_name": "Python 2",
   "language": "python",
   "name": "python2"
  },
  "language_info": {
   "codemirror_mode": {
    "name": "ipython",
    "version": 2
   },
   "file_extension": ".py",
   "mimetype": "text/x-python",
   "name": "python",
   "nbconvert_exporter": "python",
   "pygments_lexer": "ipython2",
   "version": "2.7.11"
  }
 },
 "nbformat": 4,
 "nbformat_minor": 0
}
